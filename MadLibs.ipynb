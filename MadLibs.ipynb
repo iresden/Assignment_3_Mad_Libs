{
 "cells": [
  {
   "cell_type": "code",
   "execution_count": null,
   "metadata": {},
   "outputs": [],
   "source": []
  },
  {
   "cell_type": "code",
   "execution_count": 27,
   "metadata": {},
   "outputs": [
    {
     "name": "stdout",
     "output_type": "stream",
     "text": [
      "Great! Let's play!\n",
      "Your input has been acquired!\n",
      "Your input has been acquired!\n",
      "Your input has been acquired!\n",
      "Your input has been acquired!\n",
      "Your input has been acquired!\n",
      "Your input has been acquired!\n",
      "Your input has been acquired!\n",
      "Your input has been acquired!\n",
      "Your input has been acquired!\n",
      "Your input has been acquired!\n",
      "Your input has been acquired!\n",
      "Your input has been acquired!\n",
      "Your input has been acquired!\n",
      "Your input has been acquired!\n",
      "Your input has been acquired!\n",
      "['a', 'a', 'a', 'a', 'a', 'a', 'a', 'a', 'a', 'a', 'a', 'a', 'a', 'a', 'a']\n"
     ]
    },
    {
     "ename": "IndexError",
     "evalue": "list index out of range",
     "output_type": "error",
     "traceback": [
      "\u001b[1;31m---------------------------------------------------------------------------\u001b[0m",
      "\u001b[1;31mIndexError\u001b[0m                                Traceback (most recent call last)",
      "Cell \u001b[1;32mIn[27], line 42\u001b[0m\n\u001b[0;32m     38\u001b[0m                 \u001b[38;5;28mprint\u001b[39m(\u001b[38;5;124m\"\u001b[39m\u001b[38;5;124mYou can\u001b[39m\u001b[38;5;124m'\u001b[39m\u001b[38;5;124mt leave it blank! Please type in an answer\u001b[39m\u001b[38;5;124m\"\u001b[39m)\n\u001b[0;32m     40\u001b[0m \u001b[38;5;28mprint\u001b[39m(Input_list)\n\u001b[1;32m---> 42\u001b[0m \u001b[38;5;28mprint\u001b[39m(\u001b[38;5;124mf\u001b[39m\u001b[38;5;124m\"\u001b[39m\u001b[38;5;124mOnce upon a \u001b[39m\u001b[38;5;132;01m{\u001b[39;00mInput_list[\u001b[38;5;241m0\u001b[39m]\u001b[38;5;132;01m}\u001b[39;00m\u001b[38;5;124m time, in a \u001b[39m\u001b[38;5;132;01m{\u001b[39;00mInput_list[\u001b[38;5;241m1\u001b[39m]\u001b[38;5;132;01m}\u001b[39;00m\u001b[38;5;124m far, far away, there lived a \u001b[39m\u001b[38;5;132;01m{\u001b[39;00mInput_list[\u001b[38;5;241m2\u001b[39m]\u001b[38;5;132;01m}\u001b[39;00m\u001b[38;5;124m \u001b[39m\u001b[38;5;132;01m{\u001b[39;00mInput_list[\u001b[38;5;241m3\u001b[39m]\u001b[38;5;132;01m}\u001b[39;00m\u001b[38;5;124m. This \u001b[39m\u001b[38;5;132;01m{\u001b[39;00mInput_list[\u001b[38;5;241m3\u001b[39m]\u001b[38;5;132;01m}\u001b[39;00m\u001b[38;5;124m had a peculiar habit of \u001b[39m\u001b[38;5;132;01m{\u001b[39;00mInput_list[\u001b[38;5;241m4\u001b[39m]\u001b[38;5;132;01m}\u001b[39;00m\u001b[38;5;124m every day. One day, it discovered a mysterious \u001b[39m\u001b[38;5;132;01m{\u001b[39;00mInput_list[\u001b[38;5;241m5\u001b[39m]\u001b[38;5;132;01m}\u001b[39;00m\u001b[38;5;124m in the \u001b[39m\u001b[38;5;132;01m{\u001b[39;00mInput_list[\u001b[38;5;241m6\u001b[39m]\u001b[38;5;132;01m}\u001b[39;00m\u001b[38;5;124m. The \u001b[39m\u001b[38;5;132;01m{\u001b[39;00mInput_list[\u001b[38;5;241m3\u001b[39m]\u001b[38;5;132;01m}\u001b[39;00m\u001b[38;5;124m decided to \u001b[39m\u001b[38;5;132;01m{\u001b[39;00mInput_list[\u001b[38;5;241m7\u001b[39m]\u001b[38;5;132;01m}\u001b[39;00m\u001b[38;5;124m it, and suddenly, \u001b[39m\u001b[38;5;132;01m{\u001b[39;00mInput_list[\u001b[38;5;241m8\u001b[39m]\u001b[38;5;132;01m}\u001b[39;00m\u001b[38;5;124m happened! The \u001b[39m\u001b[38;5;132;01m{\u001b[39;00mInput_list[\u001b[38;5;241m3\u001b[39m]\u001b[38;5;132;01m}\u001b[39;00m\u001b[38;5;124m found itself in a magical land filled with \u001b[39m\u001b[38;5;132;01m{\u001b[39;00mInput_list[\u001b[38;5;241m9\u001b[39m]\u001b[38;5;132;01m}\u001b[39;00m\u001b[38;5;124m. To return home, it needed to \u001b[39m\u001b[38;5;132;01m{\u001b[39;00mInput_list[\u001b[38;5;241m10\u001b[39m]\u001b[38;5;132;01m}\u001b[39;00m\u001b[38;5;124m \u001b[39m\u001b[38;5;132;01m{\u001b[39;00mInput_list[\u001b[38;5;241m7\u001b[39m]\u001b[38;5;132;01m}\u001b[39;00m\u001b[38;5;124m the \u001b[39m\u001b[38;5;132;01m{\u001b[39;00mInput_list[\u001b[38;5;241m11\u001b[39m]\u001b[38;5;132;01m}\u001b[39;00m\u001b[38;5;124m. Along the way, it met a friendly \u001b[39m\u001b[38;5;132;01m{\u001b[39;00mInput_list[\u001b[38;5;241m12\u001b[39m]\u001b[38;5;132;01m}\u001b[39;00m\u001b[38;5;124m who offered \u001b[39m\u001b[38;5;132;01m{\u001b[39;00mInput_list[\u001b[38;5;241m13\u001b[39m]\u001b[38;5;132;01m}\u001b[39;00m\u001b[38;5;124m advice. In the end, after a series of adventure-filled encounters, the \u001b[39m\u001b[38;5;132;01m{\u001b[39;00mInput_list[\u001b[38;5;241m3\u001b[39m]\u001b[38;5;132;01m}\u001b[39;00m\u001b[38;5;124m successfully \u001b[39m\u001b[38;5;132;01m{\u001b[39;00mInput_list[\u001b[38;5;241m14\u001b[39m]\u001b[38;5;132;01m}\u001b[39;00m\u001b[38;5;124m the \u001b[39m\u001b[38;5;132;01m{\u001b[39;00mInput_list[\u001b[38;5;241m5\u001b[39m]\u001b[38;5;132;01m}\u001b[39;00m\u001b[38;5;124m and returned to its \u001b[39m\u001b[38;5;132;01m{\u001b[39;00m\u001b[43mInput_list\u001b[49m\u001b[43m[\u001b[49m\u001b[38;5;241;43m15\u001b[39;49m\u001b[43m]\u001b[49m\u001b[38;5;132;01m}\u001b[39;00m\u001b[38;5;124m home.\u001b[39m\u001b[38;5;124m\"\u001b[39m)\n",
      "\u001b[1;31mIndexError\u001b[0m: list index out of range"
     ]
    }
   ],
   "source": [
    "## MadLibs task - use user input to create a story \n",
    "\n",
    "## Once upon a [adjective] time, in a [noun] far, far away, there lived a [color] [animal]. This [animal] had a peculiar habit of [verb ending in -ing] every day. One day, it discovered a mysterious [object] in the [location]. The [animal] decided to [verb] it, and suddenly, [something unexpected] happened! The [animal] found itself in a magical land filled with [plural noun]. To return home, it needed to [adverb] [verb] the [object]. Along the way, it met a friendly [character] who offered [adjective] advice. In the end, after a series of adventure-filled encounters, the [animal] successfully [past tense verb] the [object] and returned to its [adjective] home.\n",
    "\n",
    "# Textwrap will make this easier to read\n",
    "import textwrap \n",
    "\n",
    "# ask if the user wants to play - improve user experience \n",
    "# check for valid input and ask for input again if invalid\n",
    "answers_yes = [\"yes\", \"y\"]\n",
    "answers_no = [\"no\", \"n\"]\n",
    "\n",
    "while True:\n",
    "    play = input('This is a Mad Lib! Would you like to play?').lower()\n",
    "    if play in answers_yes:\n",
    "        print(\"Great! Let's play!\")\n",
    "        x = 1\n",
    "        break\n",
    "    elif play in answers_no:\n",
    "        print(\"Sorry to see you go!\")\n",
    "        x = 0\n",
    "        break\n",
    "    else:\n",
    "        print(\"I didn't understand that, please answer yes or no.\")\n",
    "\n",
    "# save the word options in a variable\n",
    "Input_list = ['adjective', 'noun', 'colour', 'animal', 'verb ending in -ing', 'object', 'location', 'verb', 'something unexpected', 'plural noun', 'adverb', 'character', 'adjective', 'past tense verb', 'adjective']\n",
    "\n",
    "# program won't run if user does not want to play i.e. x=0\n",
    "if x:\n",
    "    for i in range(0, 15):\n",
    "        while True:\n",
    "            Input_list[i] = input('Please input: ' + Input_list[i])\n",
    "            if Input_list[i].strip():\n",
    "                print('Your input has been acquired!')\n",
    "                break\n",
    "            else:\n",
    "                print(\"You can't leave it blank! Please type in an answer\")\n",
    "            \n",
    "print(Input_list)\n",
    "\n",
    "print(f\"Once upon a {Input_list[0]} time, in a {Input_list[1]} far, far away, there lived a {Input_list[2]} {Input_list[3]}. This {Input_list[3]} had a peculiar habit of {Input_list[4]} every day. One day, it discovered a mysterious {Input_list[5]} in the {Input_list[6]}. The {Input_list[3]} decided to {Input_list[7]} it, and suddenly, {Input_list[8]} happened! The {Input_list[3]} found itself in a magical land filled with {Input_list[9]}. To return home, it needed to {Input_list[10]} {Input_list[7]} the {Input_list[11]}. Along the way, it met a friendly {Input_list[12]} who offered {Input_list[13]} advice. In the end, after a series of adventure-filled encounters, the {Input_list[3]} successfully {Input_list[14]} the {Input_list[5]} and returned to its {Input_list[15]} home.\")"
   ]
  }
 ],
 "metadata": {
  "kernelspec": {
   "display_name": "Python 3",
   "language": "python",
   "name": "python3"
  },
  "language_info": {
   "codemirror_mode": {
    "name": "ipython",
    "version": 3
   },
   "file_extension": ".py",
   "mimetype": "text/x-python",
   "name": "python",
   "nbconvert_exporter": "python",
   "pygments_lexer": "ipython3",
   "version": "3.11.7"
  }
 },
 "nbformat": 4,
 "nbformat_minor": 2
}
