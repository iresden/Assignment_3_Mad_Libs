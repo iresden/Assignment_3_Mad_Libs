{
 "cells": [
  {
   "cell_type": "code",
   "execution_count": null,
   "metadata": {},
   "outputs": [],
   "source": []
  },
  {
   "cell_type": "code",
   "execution_count": 28,
   "metadata": {},
   "outputs": [
    {
     "name": "stdout",
     "output_type": "stream",
     "text": [
      "Great! Let's play!\n",
      "Your input has been acquired!\n",
      "Your input has been acquired!\n",
      "Your input has been acquired!\n",
      "Your input has been acquired!\n",
      "Your input has been acquired!\n",
      "Your input has been acquired!\n",
      "Your input has been acquired!\n",
      "Your input has been acquired!\n",
      "Your input has been acquired!\n",
      "Your input has been acquired!\n",
      "Your input has been acquired!\n",
      "Your input has been acquired!\n",
      "Your input has been acquired!\n",
      "Your input has been acquired!\n",
      "['a', 'a', 'a', 'a', 'a', 'a', 'a', 'a', 'a', 'a', 'a', 'a', 'a', 'a', 'adjective']\n",
      "Once upon a a time, in a a far, far away, there lived a a a. This a had a peculiar habit of a every day. One day, it discovered a mysterious a in the a. The a decided to a it, and suddenly, a happened! The a found itself in a magical land filled with a. To return home, it needed to a a the a. Along the way, it met a friendly a who offered a advice. In the end, after a series of adventure-filled encounters, the a successfully a the a and returned to its adjective home.\n"
     ]
    }
   ],
   "source": [
    "## MadLibs task - use user input to create a story \n",
    "\n",
    "## Once upon a [adjective] time, in a [noun] far, far away, there lived a [color] [animal]. This [animal] had a peculiar habit of [verb ending in -ing] every day. One day, it discovered a mysterious [object] in the [location]. The [animal] decided to [verb] it, and suddenly, [something unexpected] happened! The [animal] found itself in a magical land filled with [plural noun]. To return home, it needed to [adverb] [verb] the [object]. Along the way, it met a friendly [character] who offered [adjective] advice. In the end, after a series of adventure-filled encounters, the [animal] successfully [past tense verb] the [object] and returned to its [adjective] home.\n",
    "\n",
    "# Textwrap will make this easier to read\n",
    "import textwrap \n",
    "\n",
    "# ask if the user wants to play - improve user experience \n",
    "# check for valid input and ask for input again if invalid\n",
    "answers_yes = [\"yes\", \"y\"]\n",
    "answers_no = [\"no\", \"n\"]\n",
    "\n",
    "while True:\n",
    "    play = input('This is a Mad Lib! Would you like to play?').lower()\n",
    "    if play in answers_yes:\n",
    "        print(\"Great! Let's play!\")\n",
    "        x = 1\n",
    "        break\n",
    "    elif play in answers_no:\n",
    "        print(\"Sorry to see you go!\")\n",
    "        x = 0\n",
    "        break\n",
    "    else:\n",
    "        print(\"I didn't understand that, please answer yes or no.\")\n",
    "\n",
    "# save the word options in a variable\n",
    "Input_list = ['adjective', 'noun', 'colour', 'animal', 'verb ending in -ing', 'object', 'location', 'verb', 'something unexpected', 'plural noun', 'adverb', 'character', 'adjective', 'past tense verb', 'adjective']\n",
    "\n",
    "# program won't run if user does not want to play i.e. x=0\n",
    "if x:\n",
    "    for i in range(0, 14):\n",
    "        while True:\n",
    "            Input_list[i] = input('Please input: ' + Input_list[i])\n",
    "            if Input_list[i].strip():\n",
    "                print('Your input has been acquired!')\n",
    "                break\n",
    "            else:\n",
    "                print(\"You can't leave it blank! Please type in an answer\")\n",
    "            \n",
    "# Add user input into story to create the narrative\n",
    "print(f\"Once upon a {Input_list[0]} time, in a {Input_list[1]} far, far away, there lived a {Input_list[2]} {Input_list[3]}. This {Input_list[3]} had a peculiar habit of {Input_list[4]} every day. One day, it discovered a mysterious {Input_list[5]} in the {Input_list[6]}. The {Input_list[3]} decided to {Input_list[7]} it, and suddenly, {Input_list[8]} happened! The {Input_list[3]} found itself in a magical land filled with {Input_list[9]}. To return home, it needed to {Input_list[10]} {Input_list[7]} the {Input_list[5]}. Along the way, it met a friendly {Input_list[11]} who offered {Input_list[12]} advice. In the end, after a series of adventure-filled encounters, the {Input_list[3]} successfully {Input_list[13]} the {Input_list[5]} and returned to its {Input_list[14]} home.\")"
   ]
  }
 ],
 "metadata": {
  "kernelspec": {
   "display_name": "Python 3",
   "language": "python",
   "name": "python3"
  },
  "language_info": {
   "codemirror_mode": {
    "name": "ipython",
    "version": 3
   },
   "file_extension": ".py",
   "mimetype": "text/x-python",
   "name": "python",
   "nbconvert_exporter": "python",
   "pygments_lexer": "ipython3",
   "version": "3.11.7"
  }
 },
 "nbformat": 4,
 "nbformat_minor": 2
}
